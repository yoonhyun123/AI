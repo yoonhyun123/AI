{
  "nbformat": 4,
  "nbformat_minor": 0,
  "metadata": {
    "colab": {
      "provenance": [],
      "authorship_tag": "ABX9TyOoZPXMVG9BVkhCQJ1CCbLB",
      "include_colab_link": true
    },
    "kernelspec": {
      "name": "python3",
      "display_name": "Python 3"
    },
    "language_info": {
      "name": "python"
    }
  },
  "cells": [
    {
      "cell_type": "markdown",
      "metadata": {
        "id": "view-in-github",
        "colab_type": "text"
      },
      "source": [
        "<a href=\"https://colab.research.google.com/github/yoonhyun123/AI/blob/main/BIGDATA_2day.ipynb\" target=\"_parent\"><img src=\"https://colab.research.google.com/assets/colab-badge.svg\" alt=\"Open In Colab\"/></a>"
      ]
    },
    {
      "cell_type": "code",
      "execution_count": 1,
      "metadata": {
        "colab": {
          "base_uri": "https://localhost:8080/"
        },
        "id": "1DhEH7wCloY6",
        "outputId": "3cc40ba9-c8b6-4b44-bb90-1f72ef040eaf"
      },
      "outputs": [
        {
          "output_type": "stream",
          "name": "stdout",
          "text": [
            "지폐로 교환할 금액을 입력하세요.1234\n",
            "<class 'int'>\n"
          ]
        }
      ],
      "source": [
        "money=int(input(\"지폐로 교환할 금액을 입력하세요.\"))\n",
        "print(type(money))"
      ]
    },
    {
      "cell_type": "code",
      "source": [
        "money=int(input(\"지폐로 교환할 금액을 입력하세요.\"))\n",
        "print(type(money))\n",
        "\n",
        "fifty=money//50000\n",
        "money%=50000\n",
        "\n",
        "ten=money//10000\n",
        "money%=10000\n",
        "\n",
        "five=money//5000\n",
        "money%=5000\n",
        "\n",
        "one=money//1000\n",
        "money%=1000\n",
        "\n",
        "print(\"5만원:\",fifty)\n",
        "print(\"1만원\",ten)\n",
        "print(\"5천원:\",five)\n",
        "print(\"1천원:\",one)\n",
        "print(\"잔돈:\",money)"
      ],
      "metadata": {
        "id": "4IVWcUtanWRD"
      },
      "execution_count": null,
      "outputs": []
    },
    {
      "cell_type": "code",
      "source": [
        "import random\n",
        "\n",
        "answer=random.randint(1,100)\n",
        "\n",
        "tries=0\n",
        "\n",
        "while tries<10 :\n",
        "  num = int(input(\"1에서부터 100까지 숫자를 맞춰보세요.\"))\n",
        "  tries+=1\n",
        "\n",
        "  if num<answer:\n",
        "    print(\"정답은 더 큰 숫자입니다.\")\n",
        "  elif num>answer:\n",
        "    print(\"정답은 더 작은 숫자입니다.\")\n",
        "  else:\n",
        "    print(tries, \"번 시도만에 정답을 맞추었습니다.\")\n",
        "    break\n"
      ],
      "metadata": {
        "colab": {
          "base_uri": "https://localhost:8080/"
        },
        "id": "rPPiM8Ejn9Ud",
        "outputId": "5b6963bc-df4e-46bd-e3d2-0ae93ec5f683"
      },
      "execution_count": 2,
      "outputs": [
        {
          "output_type": "stream",
          "name": "stdout",
          "text": [
            "1에서부터 100까지 숫자를 맞춰보세요.50\n",
            "정답은 더 작은 숫자입니다.\n",
            "1에서부터 100까지 숫자를 맞춰보세요.35\n",
            "정답은 더 작은 숫자입니다.\n",
            "1에서부터 100까지 숫자를 맞춰보세요.10\n",
            "정답은 더 작은 숫자입니다.\n",
            "1에서부터 100까지 숫자를 맞춰보세요.2\n",
            "정답은 더 큰 숫자입니다.\n",
            "1에서부터 100까지 숫자를 맞춰보세요.8\n",
            "정답은 더 작은 숫자입니다.\n",
            "1에서부터 100까지 숫자를 맞춰보세요.7\n",
            "6 번 시도만에 정답을 맞추었습니다.\n"
          ]
        }
      ]
    },
    {
      "cell_type": "code",
      "source": [
        "import random\n",
        "\n",
        "\n",
        "score=0\n",
        "\n",
        "\n",
        "while True :\n",
        "  answer=random.randint(1,3)\n",
        "  guess=int(input(\"첫번째방 두번째방 세번째방에 범인이 어디있는지 알아맞춰보세요\"))\n",
        "\n",
        "\n"
      ],
      "metadata": {
        "id": "JkH0hGCfqo6c"
      },
      "execution_count": null,
      "outputs": []
    }
  ]
}