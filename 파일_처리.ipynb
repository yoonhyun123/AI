{
  "nbformat": 4,
  "nbformat_minor": 0,
  "metadata": {
    "colab": {
      "provenance": [],
      "authorship_tag": "ABX9TyPbUTqdt5AHcWT2aNhrik8l",
      "include_colab_link": true
    },
    "kernelspec": {
      "name": "python3",
      "display_name": "Python 3"
    },
    "language_info": {
      "name": "python"
    }
  },
  "cells": [
    {
      "cell_type": "markdown",
      "metadata": {
        "id": "view-in-github",
        "colab_type": "text"
      },
      "source": [
        "<a href=\"https://colab.research.google.com/github/yoonhyun123/AI/blob/main/%ED%8C%8C%EC%9D%BC_%EC%B2%98%EB%A6%AC.ipynb\" target=\"_parent\"><img src=\"https://colab.research.google.com/assets/colab-badge.svg\" alt=\"Open In Colab\"/></a>"
      ]
    },
    {
      "cell_type": "markdown",
      "source": [
        "CSV"
      ],
      "metadata": {
        "id": "6bWaZNIaIAF7"
      }
    },
    {
      "cell_type": "code",
      "source": [
        "\n",
        "from google.colab import files\n",
        "\n",
        "f = files.upload()\n"
      ],
      "metadata": {
        "colab": {
          "base_uri": "https://localhost:8080/",
          "height": 77
        },
        "id": "bWuksEbjBatY",
        "outputId": "0aaf7c6d-c2a5-4e94-cf3f-64965c620b5c"
      },
      "execution_count": null,
      "outputs": [
        {
          "output_type": "display_data",
          "data": {
            "text/plain": [
              "<IPython.core.display.HTML object>"
            ],
            "text/html": [
              "\n",
              "     <input type=\"file\" id=\"files-98e6dc66-dea9-49bb-be52-ffd5d18231c4\" name=\"files[]\" multiple disabled\n",
              "        style=\"border:none\" />\n",
              "     <output id=\"result-98e6dc66-dea9-49bb-be52-ffd5d18231c4\">\n",
              "      Upload widget is only available when the cell has been executed in the\n",
              "      current browser session. Please rerun this cell to enable.\n",
              "      </output>\n",
              "      <script>// Copyright 2017 Google LLC\n",
              "//\n",
              "// Licensed under the Apache License, Version 2.0 (the \"License\");\n",
              "// you may not use this file except in compliance with the License.\n",
              "// You may obtain a copy of the License at\n",
              "//\n",
              "//      http://www.apache.org/licenses/LICENSE-2.0\n",
              "//\n",
              "// Unless required by applicable law or agreed to in writing, software\n",
              "// distributed under the License is distributed on an \"AS IS\" BASIS,\n",
              "// WITHOUT WARRANTIES OR CONDITIONS OF ANY KIND, either express or implied.\n",
              "// See the License for the specific language governing permissions and\n",
              "// limitations under the License.\n",
              "\n",
              "/**\n",
              " * @fileoverview Helpers for google.colab Python module.\n",
              " */\n",
              "(function(scope) {\n",
              "function span(text, styleAttributes = {}) {\n",
              "  const element = document.createElement('span');\n",
              "  element.textContent = text;\n",
              "  for (const key of Object.keys(styleAttributes)) {\n",
              "    element.style[key] = styleAttributes[key];\n",
              "  }\n",
              "  return element;\n",
              "}\n",
              "\n",
              "// Max number of bytes which will be uploaded at a time.\n",
              "const MAX_PAYLOAD_SIZE = 100 * 1024;\n",
              "\n",
              "function _uploadFiles(inputId, outputId) {\n",
              "  const steps = uploadFilesStep(inputId, outputId);\n",
              "  const outputElement = document.getElementById(outputId);\n",
              "  // Cache steps on the outputElement to make it available for the next call\n",
              "  // to uploadFilesContinue from Python.\n",
              "  outputElement.steps = steps;\n",
              "\n",
              "  return _uploadFilesContinue(outputId);\n",
              "}\n",
              "\n",
              "// This is roughly an async generator (not supported in the browser yet),\n",
              "// where there are multiple asynchronous steps and the Python side is going\n",
              "// to poll for completion of each step.\n",
              "// This uses a Promise to block the python side on completion of each step,\n",
              "// then passes the result of the previous step as the input to the next step.\n",
              "function _uploadFilesContinue(outputId) {\n",
              "  const outputElement = document.getElementById(outputId);\n",
              "  const steps = outputElement.steps;\n",
              "\n",
              "  const next = steps.next(outputElement.lastPromiseValue);\n",
              "  return Promise.resolve(next.value.promise).then((value) => {\n",
              "    // Cache the last promise value to make it available to the next\n",
              "    // step of the generator.\n",
              "    outputElement.lastPromiseValue = value;\n",
              "    return next.value.response;\n",
              "  });\n",
              "}\n",
              "\n",
              "/**\n",
              " * Generator function which is called between each async step of the upload\n",
              " * process.\n",
              " * @param {string} inputId Element ID of the input file picker element.\n",
              " * @param {string} outputId Element ID of the output display.\n",
              " * @return {!Iterable<!Object>} Iterable of next steps.\n",
              " */\n",
              "function* uploadFilesStep(inputId, outputId) {\n",
              "  const inputElement = document.getElementById(inputId);\n",
              "  inputElement.disabled = false;\n",
              "\n",
              "  const outputElement = document.getElementById(outputId);\n",
              "  outputElement.innerHTML = '';\n",
              "\n",
              "  const pickedPromise = new Promise((resolve) => {\n",
              "    inputElement.addEventListener('change', (e) => {\n",
              "      resolve(e.target.files);\n",
              "    });\n",
              "  });\n",
              "\n",
              "  const cancel = document.createElement('button');\n",
              "  inputElement.parentElement.appendChild(cancel);\n",
              "  cancel.textContent = 'Cancel upload';\n",
              "  const cancelPromise = new Promise((resolve) => {\n",
              "    cancel.onclick = () => {\n",
              "      resolve(null);\n",
              "    };\n",
              "  });\n",
              "\n",
              "  // Wait for the user to pick the files.\n",
              "  const files = yield {\n",
              "    promise: Promise.race([pickedPromise, cancelPromise]),\n",
              "    response: {\n",
              "      action: 'starting',\n",
              "    }\n",
              "  };\n",
              "\n",
              "  cancel.remove();\n",
              "\n",
              "  // Disable the input element since further picks are not allowed.\n",
              "  inputElement.disabled = true;\n",
              "\n",
              "  if (!files) {\n",
              "    return {\n",
              "      response: {\n",
              "        action: 'complete',\n",
              "      }\n",
              "    };\n",
              "  }\n",
              "\n",
              "  for (const file of files) {\n",
              "    const li = document.createElement('li');\n",
              "    li.append(span(file.name, {fontWeight: 'bold'}));\n",
              "    li.append(span(\n",
              "        `(${file.type || 'n/a'}) - ${file.size} bytes, ` +\n",
              "        `last modified: ${\n",
              "            file.lastModifiedDate ? file.lastModifiedDate.toLocaleDateString() :\n",
              "                                    'n/a'} - `));\n",
              "    const percent = span('0% done');\n",
              "    li.appendChild(percent);\n",
              "\n",
              "    outputElement.appendChild(li);\n",
              "\n",
              "    const fileDataPromise = new Promise((resolve) => {\n",
              "      const reader = new FileReader();\n",
              "      reader.onload = (e) => {\n",
              "        resolve(e.target.result);\n",
              "      };\n",
              "      reader.readAsArrayBuffer(file);\n",
              "    });\n",
              "    // Wait for the data to be ready.\n",
              "    let fileData = yield {\n",
              "      promise: fileDataPromise,\n",
              "      response: {\n",
              "        action: 'continue',\n",
              "      }\n",
              "    };\n",
              "\n",
              "    // Use a chunked sending to avoid message size limits. See b/62115660.\n",
              "    let position = 0;\n",
              "    do {\n",
              "      const length = Math.min(fileData.byteLength - position, MAX_PAYLOAD_SIZE);\n",
              "      const chunk = new Uint8Array(fileData, position, length);\n",
              "      position += length;\n",
              "\n",
              "      const base64 = btoa(String.fromCharCode.apply(null, chunk));\n",
              "      yield {\n",
              "        response: {\n",
              "          action: 'append',\n",
              "          file: file.name,\n",
              "          data: base64,\n",
              "        },\n",
              "      };\n",
              "\n",
              "      let percentDone = fileData.byteLength === 0 ?\n",
              "          100 :\n",
              "          Math.round((position / fileData.byteLength) * 100);\n",
              "      percent.textContent = `${percentDone}% done`;\n",
              "\n",
              "    } while (position < fileData.byteLength);\n",
              "  }\n",
              "\n",
              "  // All done.\n",
              "  yield {\n",
              "    response: {\n",
              "      action: 'complete',\n",
              "    }\n",
              "  };\n",
              "}\n",
              "\n",
              "scope.google = scope.google || {};\n",
              "scope.google.colab = scope.google.colab || {};\n",
              "scope.google.colab._files = {\n",
              "  _uploadFiles,\n",
              "  _uploadFilesContinue,\n",
              "};\n",
              "})(self);\n",
              "</script> "
            ]
          },
          "metadata": {}
        },
        {
          "output_type": "stream",
          "name": "stdout",
          "text": [
            "Saving 실습1.csv to 실습1.csv\n"
          ]
        }
      ]
    },
    {
      "cell_type": "code",
      "execution_count": null,
      "metadata": {
        "colab": {
          "base_uri": "https://localhost:8080/"
        },
        "id": "fDOkG1_d8qXK",
        "outputId": "38f855e5-f3b8-40f6-b4e3-d09dea5a8c1c"
      },
      "outputs": [
        {
          "output_type": "stream",
          "name": "stdout",
          "text": [
            "['ID', ' 이름', ' 상징색', ' 취미', ' 특징']\n",
            "['001', ' 뽀로로', ' 파랑색', ' 낚시', ' 펭귄']\n",
            "['002', ' 에디', ' 주황색', ' 과학실험', ' 사막여우']\n",
            "['003', ' 크롱', ' 초록색', ' 눈싸움', ' 공룡']\n",
            "['004', ' 루피', ' 분홍색', ' 요리', ' 비버']\n",
            "['005', ' 패티', ' 보라색', ' 운동', ' 펭귄']\n"
          ]
        }
      ],
      "source": [
        "import csv  # csv 모듈을 가져옵니다.\n",
        "\n",
        "f = open('실습1.csv', 'r', encoding='cp949')\n",
        "rdr = csv.reader(f)# 파싱\n",
        "\n",
        "for line in rdr:  # 각 줄을 출력할 수 있게 변경\n",
        "    print(line)\n",
        "\n",
        "f.close()\n"
      ]
    },
    {
      "cell_type": "code",
      "source": [
        "import csv\n",
        "\n",
        "# CSV 파일 작성 열기\n",
        "f = open('write.csv', 'w', encoding='utf-8', newline='')   # 'w'모드는 작성하는 모드이고 추가는 'a'모드로 해야됨!!\n",
        "\n",
        "# CSV 파일 작성 준비\n",
        "wr = csv.writer(f)\n",
        "\n",
        "# 데이터를 한 행씩 작성하기\n",
        "wr.writerow(['ID', '이름', '상징색', '취미', '특징'])\n",
        "wr.writerow(['001', '뽀로로', '파랑색', '낚시', '펭귄'])\n",
        "wr.writerow(['002', '에디', '주황색', '과학실험', '사막여우'])\n",
        "wr.writerow(['003', '크롱', '초록색', '눈싸움', '공룡'])\n",
        "wr.writerow(['004', '루피', '분홍색', '요리', '비버'])\n",
        "wr.writerow(['005', '패티', '보라색', '운동', '펭귄'])\n",
        "\n",
        "# 변수의 자원 반환하기\n",
        "f.close()\n"
      ],
      "metadata": {
        "id": "DyBF1zVSB7T6"
      },
      "execution_count": null,
      "outputs": []
    },
    {
      "cell_type": "code",
      "source": [
        "import csv\n",
        "\n",
        "# CSV 파일 작성 열기\n",
        "f = open('write.csv', 'w', encoding='utf-8', newline='')\n",
        "\n",
        "# CSV 파일 작성 준비\n",
        "wr = csv.writer(f)\n",
        "\n",
        "# 헤더 작성\n",
        "wr.writerow(['ID', '이름', '상징색', '취미', '특징'])\n",
        "\n",
        "# 데이터 리스트\n",
        "data = [\n",
        "    ['001', '뽀로로', '파랑색', '낚시', '펭귄'],\n",
        "    ['002', '에디', '주황색', '과학실험', '사막여우'],\n",
        "    ['003', '크롱', '초록색', '눈싸움', '공룡'],\n",
        "    ['004', '루피', '분홍색', '요리', '비버'],\n",
        "    ['005', '패티', '보라색', '운동', '펭귄']\n",
        "]\n",
        "\n",
        "# for문을 사용해 데이터 작성\n",
        "for row in data:\n",
        "    wr.writerow(row)\n",
        "\n",
        "# 파일 닫기\n",
        "f.close()\n"
      ],
      "metadata": {
        "id": "jCgss1buCt0C"
      },
      "execution_count": null,
      "outputs": []
    },
    {
      "cell_type": "code",
      "source": [
        "import csv\n",
        "\n",
        "f=open('실습3.csv','r',encoding='utf-8')\n",
        "rdr=csv.reader(f)\n",
        "\n",
        "for line in rdr:\n",
        "    print(line)\n",
        "\n",
        "f.close()"
      ],
      "metadata": {
        "colab": {
          "base_uri": "https://localhost:8080/"
        },
        "id": "AcPYiEAEDiOE",
        "outputId": "a9f71696-7c9d-4c95-bac0-5e0cefdb6ddf"
      },
      "execution_count": null,
      "outputs": [
        {
          "output_type": "stream",
          "name": "stdout",
          "text": [
            "짜\n",
            "0\n",
            "0\n",
            "0\n"
          ]
        }
      ]
    },
    {
      "cell_type": "code",
      "source": [
        "import csv\n",
        "\n",
        "# CSV 파일 열기\n",
        "with open('실습3.csv', 'r', encoding='utf-8') as f:\n",
        "    rdr = csv.reader(f)\n",
        "\n",
        "    # 각 줄에서 앞의 3개 열만 출력\n",
        "    for line in rdr:\n",
        "        print(line[:3])  # 앞의 3개의 열만 추출하여 출력\n",
        "\n",
        "f.close()\n",
        "\n"
      ],
      "metadata": {
        "colab": {
          "base_uri": "https://localhost:8080/"
        },
        "id": "ZPegg2xoE3XW",
        "outputId": "d96af369-a7e0-435c-8b4a-a68b5a3e2718"
      },
      "execution_count": null,
      "outputs": [
        {
          "output_type": "stream",
          "name": "stdout",
          "text": [
            "['날짜', '요일', '날씨']\n",
            "['20230101', '월', '맑음']\n",
            "['20230102', '화', '맑음']\n",
            "['20230103', '수', '맑음']\n"
          ]
        }
      ]
    },
    {
      "cell_type": "markdown",
      "source": [
        "Excel\n"
      ],
      "metadata": {
        "id": "MXX0y1GfIEGy"
      }
    },
    {
      "cell_type": "code",
      "source": [
        "#!pip install openpyxl\n",
        "\n",
        "import openpyxl\n",
        "import pandas as pd\n",
        "import random\n",
        "import csv\n",
        "\n",
        "\n",
        "wb=openpyxl.load_workbook('characters.xlsx')\n",
        "print(wb.sheetnames) #시트이름을 알아야 특정 데이터를 읽을수 있음\n",
        "\n",
        "sheet1=wb['Sheet1']\n",
        "print(sheet1['E6'].value)       #특정 시트이름을 알면 읽어오기 쉬움"
      ],
      "metadata": {
        "colab": {
          "base_uri": "https://localhost:8080/"
        },
        "id": "WgtxX02nIIQK",
        "outputId": "7ad01752-0a00-4839-e936-1c46b02de662"
      },
      "execution_count": null,
      "outputs": [
        {
          "output_type": "stream",
          "name": "stdout",
          "text": [
            "['Sheet1']\n",
            "펭귄\n"
          ]
        }
      ]
    },
    {
      "cell_type": "code",
      "source": [
        "import openpyxl\n",
        "\n",
        "# 기존 엑셀 파일 열기\n",
        "wb = openpyxl.load_workbook('characters.xlsx')\n",
        "\n",
        "# 첫 번째 시트의 이름을 \"캐릭터 명단\"으로 변경\n",
        "sheet1 = wb['Sheet1']\n",
        "sheet1.title = '캐릭터 명단'\n",
        "\n",
        "# 두 번째 시트 생성 및 이름 변경\n",
        "sheet2 = wb.create_sheet('Sheet2')\n",
        "sheet2.title = '인기도 조사'\n",
        "\n",
        "# 변경 사항 출력 (워크시트 이름들)\n",
        "print(wb.sheetnames)\n",
        "\n",
        "# 엑셀 파일 저장\n",
        "wb.save('characters_with_sheets.xlsx')\n",
        "\n",
        "print(\"워크시트 이름이 변경되고, 새로운 시트가 추가되었습니다.\")\n"
      ],
      "metadata": {
        "colab": {
          "base_uri": "https://localhost:8080/"
        },
        "id": "VDKZQHCrKuV_",
        "outputId": "611963d9-19a6-48e1-f834-35900e58f4be"
      },
      "execution_count": null,
      "outputs": [
        {
          "output_type": "stream",
          "name": "stdout",
          "text": [
            "['캐릭터 명단', '인기도 조사']\n",
            "워크시트 이름이 변경되고, 새로운 시트가 추가되었습니다.\n"
          ]
        }
      ]
    },
    {
      "cell_type": "code",
      "source": [
        "#1. 경기도 의정부 서울시 혼잡도 csv 파일 확보\n",
        "#2. 3개의 csv파일 colab 업로드\n",
        "#3. 각 csv 파일을 읽어서 엑셀파이르이 sheet로 각각 저장\n",
        "# 각 sheet는 3개 지자체의 데이터를 저장해서 한개의 엑셀파일로 관리\n",
        "\n",
        "import csv\n",
        "import openpyxl\n",
        "\n",
        "wb=openpyxl.Workbook()\n",
        "ws=wb.active\n",
        "\n",
        "\n",
        "f=open('data1.csv','r',encoding='cp949')\n",
        "reader=csv.reader(f)\n",
        "\n",
        "for row in reader:\n",
        "  ws.append(row)\n",
        "\n",
        "ws2=wb.create_sheet('Sheet2')\n",
        "f=open('data2.csv','r',encoding='cp949')\n",
        "reader=csv.reader(f)\n",
        "\n",
        "for row in reader:\n",
        "  ws2.append(row)\n",
        "\n",
        "ws3=wb.create_sheet('Sheet3')\n",
        "f=open('data3.csv','r',encoding='cp949')\n",
        "reader=csv.reader(f)\n",
        "\n",
        "for row in reader:\n",
        "  ws3.append(row)\n",
        "\n",
        "ws.title='경기도 혼잡도'\n",
        "ws2.title='대전 혼잡도'\n",
        "ws3.title='서울시 혼잡도'\n",
        "\n",
        "wb.save('data.xlsx')\n",
        "\n"
      ],
      "metadata": {
        "id": "6UGgT_Q-H9ui"
      },
      "execution_count": null,
      "outputs": []
    },
    {
      "cell_type": "code",
      "source": [
        "infilename = input(\"입력 파일 이름: \")\n",
        "outfilename = input(\"출력 파일 이름: \")\n",
        "\n",
        "try:\n",
        "    # 입력 파일 열기\n",
        "    with open(infilename, 'r', encoding='utf-8') as infile:\n",
        "        # 출력 파일 열기\n",
        "        with open(outfilename, 'w', encoding='utf-8') as outfile:\n",
        "            s = infile.read()  # 입력 파일 내용 읽기\n",
        "            outfile.write(s)   # 출력 파일에 쓰기\n",
        "            print(\"파일 저장 성공!\")\n",
        "\n",
        "except FileNotFoundError:\n",
        "    print(f\"입력 파일이 존재하지 않습니다: {infilename}\")\n",
        "except Exception as e:\n",
        "    print(f\"오류가 발생했습니다: {e}\")\n"
      ],
      "metadata": {
        "colab": {
          "base_uri": "https://localhost:8080/"
        },
        "id": "sMylwzvmuB7j",
        "outputId": "5698811b-471b-488e-8b51-ca3534feb003"
      },
      "execution_count": 13,
      "outputs": [
        {
          "output_type": "stream",
          "name": "stdout",
          "text": [
            "입력 파일 이름: 123.csv\n",
            "출력 파일 이름: 1234\n",
            "파일 저장 성공!\n"
          ]
        }
      ]
    },
    {
      "cell_type": "code",
      "source": [
        "# 입력 파일 출력 파일 열기\n",
        "infile = open(\"123.txt\", \"r\")\n",
        "outfile = open(\"1234.txt\", \"w\")\n",
        "\n",
        "word_dic = {}\n",
        "total_count = 0\n",
        "\n",
        "for line in infile:\n",
        "    line = line.rstrip()\n",
        "    word_list = line.split()\n",
        "\n",
        "    for word in word_list:\n",
        "        word = word.lower()        # 소문자로 변경\n",
        "        word = word.strip(',')     # 콤마 삭제\n",
        "        word = word.strip('.')     # 마침표 삭제\n",
        "\n",
        "        if word in word_dic:\n",
        "            word_dic[word] += 1\n",
        "            total_count += 1\n",
        "        else:\n",
        "            word_dic[word] = 1\n",
        "            total_count += 1\n",
        "\n",
        "# 단어별 빈도수를 결과파일에 저장하고 총 단어수를 화면에 출력\n",
        "result = \"\"\n",
        "for key in sorted(word_dic.keys()):\n",
        "    result = key + \" \" + str(word_dic[key]) + '\\n'\n",
        "    outfile.write(result)\n",
        "\n",
        "print(\"총 단어 수 =\", total_count)\n",
        "\n",
        "# 입력 파일 출력 파일 닫기\n",
        "outfile.close()\n"
      ],
      "metadata": {
        "colab": {
          "base_uri": "https://localhost:8080/"
        },
        "id": "bDhQHRVhw6GM",
        "outputId": "ee6b8a6f-ea45-43b2-eca3-ad5edd6a9df9"
      },
      "execution_count": 15,
      "outputs": [
        {
          "output_type": "stream",
          "name": "stdout",
          "text": [
            "총 단어 수 = 90\n"
          ]
        }
      ]
    },
    {
      "cell_type": "code",
      "source": [
        "import pickle\n",
        "\n",
        "game=Option={\n",
        "\n",
        "             \"sound\":8,\n",
        "             \"VideoQuality\":\"HIGH\",\n",
        "             \"Money\":100000,\n",
        "             \"WeaponList\":[\"gun\",\"missile\",\"knife\"]\n",
        "}\n",
        "file=open(\"save.txt\",\"wb\")\n",
        "pickle.dump(game,file)\n",
        "file.close()\n"
      ],
      "metadata": {
        "id": "hqQgWwxgxyf9"
      },
      "execution_count": 16,
      "outputs": []
    },
    {
      "cell_type": "code",
      "source": [
        "import pickle\n",
        "\n",
        "file=open(\"save.txt\",\"rb\")\n",
        "game=pickle.load(file)\n",
        "print(game)\n",
        "file.close()"
      ],
      "metadata": {
        "colab": {
          "base_uri": "https://localhost:8080/"
        },
        "id": "jt9BMQ2jyK4f",
        "outputId": "2b7e4c56-a22f-4c48-b3d1-1f76fa1b9288"
      },
      "execution_count": 17,
      "outputs": [
        {
          "output_type": "stream",
          "name": "stdout",
          "text": [
            "{'sound': 8, 'VideoQuality': 'HIGH', 'Money': 100000, 'WeaponList': ['gun', 'missile', 'knife']}\n"
          ]
        }
      ]
    },
    {
      "cell_type": "code",
      "source": [
        "import math\n",
        "\n",
        "def calCircle(r):\n",
        "  area=math.pi*r*r\n",
        "  circum=2*math.pi*r\n",
        "  return area,circum\n",
        "\n",
        "  radius=float(input(\"원의 반지름을 입력하세요:\"))\n",
        "  area,circum=calCircle(radius)\n",
        "  print(\"반지름이 %.1f인 원의 면적은 %.2f이고 둘레는 %.2f입니다.\"%(radius,area,circum))"
      ],
      "metadata": {
        "id": "yDOl-wsE4bwg"
      },
      "execution_count": 19,
      "outputs": []
    },
    {
      "cell_type": "code",
      "source": [
        "ad_info = list()\n",
        "\n",
        "print('관리자 계정 생성 프로그램입니다.')\n",
        "ad_info.append(input('관리자 아이디 입력: '))\n",
        "ad_info.append(input('관리자 비밀번호 입력: '))\n",
        "admin_info = tuple(ad_info)\n",
        "\n",
        "while True:\n",
        "    admin_pass = input('관리자 비밀번호 재입력: ')\n",
        "    if admin_pass == admin_info[1]:\n",
        "        print('계정이 성공적으로 생성되었습니다.')\n",
        "        break\n",
        "    else:\n",
        "        print('비밀번호가 서로 다릅니다.')\n"
      ],
      "metadata": {
        "colab": {
          "base_uri": "https://localhost:8080/"
        },
        "id": "q9sgBVdR5Ejp",
        "outputId": "16d8c9b9-742d-4958-f1ee-64f7dc24c819"
      },
      "execution_count": 21,
      "outputs": [
        {
          "output_type": "stream",
          "name": "stdout",
          "text": [
            "관리자 계정 생성 프로그램입니다.\n",
            "관리자 아이디 입력: qw\n",
            "관리자 비밀번호 입력: 2\n",
            "관리자 비밀번호 재입력: 4\n",
            "비밀번호가 서로 다릅니다.\n",
            "관리자 비밀번호 재입력: 4\n",
            "비밀번호가 서로 다릅니다.\n",
            "관리자 비밀번호 재입력: 4\n",
            "비밀번호가 서로 다릅니다.\n",
            "관리자 비밀번호 재입력: 1234\n",
            "비밀번호가 서로 다릅니다.\n",
            "관리자 비밀번호 재입력: 2\n",
            "계정이 성공적으로 생성되었습니다.\n"
          ]
        }
      ]
    }
  ]
}