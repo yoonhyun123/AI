{
  "nbformat": 4,
  "nbformat_minor": 0,
  "metadata": {
    "colab": {
      "provenance": [],
      "authorship_tag": "ABX9TyNYevxLs+DBpi0MBMKNl5DC",
      "include_colab_link": true
    },
    "kernelspec": {
      "name": "python3",
      "display_name": "Python 3"
    },
    "language_info": {
      "name": "python"
    }
  },
  "cells": [
    {
      "cell_type": "markdown",
      "metadata": {
        "id": "view-in-github",
        "colab_type": "text"
      },
      "source": [
        "<a href=\"https://colab.research.google.com/github/yoonhyun123/AI/blob/main/BIGDATA_1day.ipynb\" target=\"_parent\"><img src=\"https://colab.research.google.com/assets/colab-badge.svg\" alt=\"Open In Colab\"/></a>"
      ]
    },
    {
      "cell_type": "markdown",
      "source": [
        "[링크 텍스트](https://)"
      ],
      "metadata": {
        "id": "L2IQKmnpgL3G"
      }
    },
    {
      "cell_type": "code",
      "execution_count": 1,
      "metadata": {
        "colab": {
          "base_uri": "https://localhost:8080/"
        },
        "id": "CHn1gCXcgKsb",
        "outputId": "d4c85bf6-59d2-4f4f-9ac9-0f93b98ba7c4"
      },
      "outputs": [
        {
          "output_type": "stream",
          "name": "stdout",
          "text": [
            "계산할 연산을 선택하세요:\n",
            "1. 더하기\n",
            "2. 빼기\n",
            "3. 곱하기\n",
            "4. 나누기\n",
            "연산을 선택하세요 (1/2/3/4): 1\n",
            "첫 번째 숫자를 입력하세요: 123\n",
            "두 번째 숫자를 입력하세요: 234\n",
            "123.0 + 234.0 = 357.0\n"
          ]
        }
      ],
      "source": [
        "# 계산기 함수 정의\n",
        "def calculator():\n",
        "    print(\"계산할 연산을 선택하세요:\")\n",
        "    print(\"1. 더하기\")\n",
        "    print(\"2. 빼기\")\n",
        "    print(\"3. 곱하기\")\n",
        "    print(\"4. 나누기\")\n",
        "\n",
        "    # 사용자로부터 연산 선택\n",
        "    choice = input(\"연산을 선택하세요 (1/2/3/4): \")\n",
        "\n",
        "    # 두 숫자를 입력받음\n",
        "    num1 = float(input(\"첫 번째 숫자를 입력하세요: \"))\n",
        "    num2 = float(input(\"두 번째 숫자를 입력하세요: \"))\n",
        "\n",
        "    # 선택한 연산에 따라 계산 수행\n",
        "    if choice == '1':\n",
        "        print(f\"{num1} + {num2} = {num1 + num2}\")\n",
        "    elif choice == '2':\n",
        "        print(f\"{num1} - {num2} = {num1 - num2}\")\n",
        "    elif choice == '3':\n",
        "        print(f\"{num1} * {num2} = {num1 * num2}\")\n",
        "    elif choice == '4':\n",
        "        if num2 != 0:\n",
        "            print(f\"{num1} / {num2} = {num1 / num2}\")\n",
        "        else:\n",
        "            print(\"0으로 나눌 수 없습니다.\")\n",
        "    else:\n",
        "        print(\"잘못된 입력입니다.\")\n",
        "\n",
        "# 함수 실행\n",
        "calculator()\n"
      ]
    },
    {
      "cell_type": "code",
      "source": [],
      "metadata": {
        "id": "ahqFRd5ogzKI"
      },
      "execution_count": 1,
      "outputs": []
    }
  ]
}