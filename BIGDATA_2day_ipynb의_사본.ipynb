{
  "nbformat": 4,
  "nbformat_minor": 0,
  "metadata": {
    "colab": {
      "provenance": [],
      "authorship_tag": "ABX9TyMaKx2tqNZVs7mBBlmBpkiA",
      "include_colab_link": true
    },
    "kernelspec": {
      "name": "python3",
      "display_name": "Python 3"
    },
    "language_info": {
      "name": "python"
    }
  },
  "cells": [
    {
      "cell_type": "markdown",
      "metadata": {
        "id": "view-in-github",
        "colab_type": "text"
      },
      "source": [
        "<a href=\"https://colab.research.google.com/github/yoonhyun123/AI/blob/main/BIGDATA_2day_ipynb%EC%9D%98_%EC%82%AC%EB%B3%B8.ipynb\" target=\"_parent\"><img src=\"https://colab.research.google.com/assets/colab-badge.svg\" alt=\"Open In Colab\"/></a>"
      ]
    },
    {
      "cell_type": "code",
      "execution_count": null,
      "metadata": {
        "colab": {
          "base_uri": "https://localhost:8080/"
        },
        "id": "1DhEH7wCloY6",
        "outputId": "3cc40ba9-c8b6-4b44-bb90-1f72ef040eaf"
      },
      "outputs": [
        {
          "output_type": "stream",
          "name": "stdout",
          "text": [
            "지폐로 교환할 금액을 입력하세요.1234\n",
            "<class 'int'>\n"
          ]
        }
      ],
      "source": [
        "money=int(input(\"지폐로 교환할 금액을 입력하세요.\"))\n",
        "print(type(money))"
      ]
    },
    {
      "cell_type": "code",
      "source": [
        "money=int(input(\"지폐로 교환할 금액을 입력하세요.\"))\n",
        "print(type(money))\n",
        "\n",
        "fifty=money//50000\n",
        "money%=50000\n",
        "\n",
        "ten=money//10000\n",
        "money%=10000\n",
        "\n",
        "five=money//5000\n",
        "money%=5000\n",
        "\n",
        "one=money//1000\n",
        "money%=1000\n",
        "\n",
        "print(\"5만원:\",fifty)\n",
        "print(\"1만원\",ten)\n",
        "print(\"5천원:\",five)\n",
        "print(\"1천원:\",one)\n",
        "print(\"잔돈:\",money)"
      ],
      "metadata": {
        "id": "4IVWcUtanWRD"
      },
      "execution_count": null,
      "outputs": []
    },
    {
      "cell_type": "code",
      "source": [
        "import random\n",
        "\n",
        "answer=random.randint(1,100)\n",
        "\n",
        "tries=0\n",
        "\n",
        "while tries<10 :\n",
        "  num = int(input(\"1에서부터 100까지 숫자를 맞춰보세요.\"))\n",
        "  tries+=1\n",
        "\n",
        "  if num<answer:\n",
        "    print(\"정답은 더 큰 숫자입니다.\")\n",
        "  elif num>answer:\n",
        "    print(\"정답은 더 작은 숫자입니다.\")\n",
        "  else:\n",
        "    print(tries, \"번 시도만에 정답을 맞추었습니다.\")\n",
        "    break\n"
      ],
      "metadata": {
        "colab": {
          "base_uri": "https://localhost:8080/"
        },
        "id": "rPPiM8Ejn9Ud",
        "outputId": "5b6963bc-df4e-46bd-e3d2-0ae93ec5f683"
      },
      "execution_count": null,
      "outputs": [
        {
          "output_type": "stream",
          "name": "stdout",
          "text": [
            "1에서부터 100까지 숫자를 맞춰보세요.50\n",
            "정답은 더 작은 숫자입니다.\n",
            "1에서부터 100까지 숫자를 맞춰보세요.35\n",
            "정답은 더 작은 숫자입니다.\n",
            "1에서부터 100까지 숫자를 맞춰보세요.10\n",
            "정답은 더 작은 숫자입니다.\n",
            "1에서부터 100까지 숫자를 맞춰보세요.2\n",
            "정답은 더 큰 숫자입니다.\n",
            "1에서부터 100까지 숫자를 맞춰보세요.8\n",
            "정답은 더 작은 숫자입니다.\n",
            "1에서부터 100까지 숫자를 맞춰보세요.7\n",
            "6 번 시도만에 정답을 맞추었습니다.\n"
          ]
        }
      ]
    },
    {
      "cell_type": "code",
      "source": [
        "import random\n",
        "\n",
        "\n",
        "score=0\n",
        "\n",
        "\n",
        "while True :\n",
        "  answer=random.randint(1,3)\n",
        "  guess=int(input(\"첫번째방 두번째방 세번째방에 범인이 어디있는지 알아맞춰보세요\"))\n",
        "\n",
        "\n"
      ],
      "metadata": {
        "id": "JkH0hGCfqo6c"
      },
      "execution_count": null,
      "outputs": []
    },
    {
      "cell_type": "code",
      "source": [
        "#for 문은 마지막 자리를 포함 안함\n",
        "#for i int range(1,101) 101은 포함 안함\n",
        "\n",
        "\n"
      ],
      "metadata": {
        "colab": {
          "base_uri": "https://localhost:8080/",
          "height": 110
        },
        "id": "_JQ7k4b5sMJr",
        "outputId": "56026ce1-a0f4-4c19-e80e-bfd11c3e6cb1"
      },
      "execution_count": null,
      "outputs": [
        {
          "output_type": "error",
          "ename": "SyntaxError",
          "evalue": "invalid syntax. Perhaps you forgot a comma? (<ipython-input-4-7e55b0572efc>, line 5)",
          "traceback": [
            "\u001b[0;36m  File \u001b[0;32m\"<ipython-input-4-7e55b0572efc>\"\u001b[0;36m, line \u001b[0;32m5\u001b[0m\n\u001b[0;31m    input(원하는 단은:)\u001b[0m\n\u001b[0m          ^\u001b[0m\n\u001b[0;31mSyntaxError\u001b[0m\u001b[0;31m:\u001b[0m invalid syntax. Perhaps you forgot a comma?\n"
          ]
        }
      ]
    },
    {
      "cell_type": "code",
      "source": [
        "#리스트\n",
        "\n",
        "hero=[\"hulk\",\"iron man\",\"superman\"]\n",
        "print(len(hero))"
      ],
      "metadata": {
        "colab": {
          "base_uri": "https://localhost:8080/"
        },
        "id": "W6NMe0RZzv2D",
        "outputId": "9bb73ffd-777f-4c23-cc30-0950cccd317b"
      },
      "execution_count": null,
      "outputs": [
        {
          "output_type": "stream",
          "name": "stdout",
          "text": [
            "3\n"
          ]
        }
      ]
    },
    {
      "cell_type": "code",
      "source": [
        "ssn=\"991225-24698123\"\n",
        "print(ssn[7])"
      ],
      "metadata": {
        "colab": {
          "base_uri": "https://localhost:8080/"
        },
        "id": "GQeISFDh16jF",
        "outputId": "83903774-15fc-4664-c564-6af2d712bf0d"
      },
      "execution_count": null,
      "outputs": [
        {
          "output_type": "stream",
          "name": "stdout",
          "text": [
            "2\n"
          ]
        }
      ]
    },
    {
      "cell_type": "code",
      "source": [
        "heroes = [\"아이언맨\", \"토르\", \"헐크\", \"스칼렛위치\"]\n",
        "\n",
        "for hero in heroes:\n",
        "    print(hero)\n"
      ],
      "metadata": {
        "colab": {
          "base_uri": "https://localhost:8080/"
        },
        "id": "VunisrmH3gWd",
        "outputId": "78f1e6e6-e511-4c52-e566-31869ba453bf"
      },
      "execution_count": null,
      "outputs": [
        {
          "output_type": "stream",
          "name": "stdout",
          "text": [
            "아이언맨\n",
            "토르\n",
            "헐크\n",
            "스칼렛위치\n"
          ]
        }
      ]
    },
    {
      "cell_type": "code",
      "source": [
        "import random\n",
        "\n",
        "quotes = []\n",
        "quotes.append(\"꿈을 지녀라. 그러면 어려운 현실을 이길 수 있다.\")\n",
        "quotes.append(\"고생 없이 얻을 수 있는 진실로 귀중한 것은 하나도 없다.\")\n",
        "quotes.append(\"사람은 사랑할 때 누구나 시인이 된다.\")\n",
        "quotes.append(\"시작이 반이다.\")\n",
        "\n",
        "print(quotes)\n",
        "\n",
        "today_quote = random.choice(quotes)\n",
        "print(today_quote)\n"
      ],
      "metadata": {
        "colab": {
          "base_uri": "https://localhost:8080/"
        },
        "id": "gr8TH6RT54rS",
        "outputId": "bbda009c-2fbe-4362-a600-443111909235"
      },
      "execution_count": null,
      "outputs": [
        {
          "output_type": "stream",
          "name": "stdout",
          "text": [
            "['꿈을 지녀라. 그러면 어려운 현실을 이길 수 있다.', '고생 없이 얻을 수 있는 진실로 귀중한 것은 하나도 없다.', '사람은 사랑할 때 누구나 시인이 된다.', '시작이 반이다.']\n",
            "시작이 반이다.\n"
          ]
        }
      ]
    },
    {
      "cell_type": "code",
      "source": [
        "new_list = [[\"홍길동\", \"010-4444-2222\",30], [\"이순신\", \"010-1234-2412\",23]]\n",
        "print(len(new_list))\n",
        "print(new_list[0])\n",
        "print(new_list[1])\n",
        "print(new_list[0][0])\n",
        "print(new_list[0][1])\n",
        "print(new_list[0][2])\n",
        "\n"
      ],
      "metadata": {
        "colab": {
          "base_uri": "https://localhost:8080/"
        },
        "id": "TFO5WHO46UGq",
        "outputId": "fcf3adaf-d105-4fdb-9381-b8466170c4ce"
      },
      "execution_count": null,
      "outputs": [
        {
          "output_type": "stream",
          "name": "stdout",
          "text": [
            "2\n",
            "['홍길동', '010-4444-2222', 30]\n",
            "['이순신', '010-1234-2412', 23]\n",
            "홍길동\n",
            "010-4444-2222\n",
            "30\n"
          ]
        }
      ]
    },
    {
      "cell_type": "code",
      "source": [
        "#리스트튼 for loop와 궁합이 좋음\n",
        "\n",
        "for i in[1,2,3]:\n",
        "    print(i)\n"
      ],
      "metadata": {
        "colab": {
          "base_uri": "https://localhost:8080/"
        },
        "id": "UbTxuo0j7nTB",
        "outputId": "9ef1e6e9-b88b-4417-d47a-36d0fe9c1bdf"
      },
      "execution_count": null,
      "outputs": [
        {
          "output_type": "stream",
          "name": "stdout",
          "text": [
            "1\n",
            "2\n",
            "3\n"
          ]
        }
      ]
    },
    {
      "cell_type": "code",
      "source": [
        "zip_code=[\"033772\",\"12345\",\"34322\"]\n",
        "\n",
        "zip_code=(\"033772\",\"12345\",\"34322\")\n",
        "#딕셔너리는 키값으로 접근함 리스트는 리스트 번호로 접근가능 a[0] 이런식"
      ],
      "metadata": {
        "id": "sqcBp1s58Hfh"
      },
      "execution_count": null,
      "outputs": []
    },
    {
      "cell_type": "code",
      "source": [
        "fruits = {\n",
        "    \"콜라\": 4,\n",
        "    \"바나나\": 8,\n",
        "    \"오렌지\": 12,\n",
        "    \"포도\": 15\n",
        "}\n",
        "\n",
        "# 사용자 입력 받기\n",
        "item = input(\"물건의 이름을 입력하시오: \")\n",
        "\n",
        "# 입력한 물건이 딕셔너리에 있는지 확인하고 출력\n",
        "if item in fruits:\n",
        "    print(f\"{item}: {fruits[item]}개\")\n",
        "else:\n",
        "    print(\"해당 물건은 목록에 없습니다.\")\n",
        "\n",
        "\n"
      ],
      "metadata": {
        "colab": {
          "base_uri": "https://localhost:8080/"
        },
        "id": "dd0dfArfAhgZ",
        "outputId": "f149b160-7a23-4cc6-91a9-92f32ab360d3"
      },
      "execution_count": null,
      "outputs": [
        {
          "output_type": "stream",
          "name": "stdout",
          "text": [
            "물건의 이름을 입력하시오: 콜라\n",
            "콜라: 4개\n"
          ]
        }
      ]
    },
    {
      "cell_type": "code",
      "source": [
        "# 빈 딕셔너리 생성\n",
        "mart = {}\n",
        "\n",
        "# 5개의 품목과 수량 입력받기\n",
        "for i in range(5):  # range를 ()로 감싸기\n",
        "    item = input(\"품목명: \")\n",
        "    quantity = int(input(\"수량: \"))\n",
        "    mart[item] = quantity  # 품목과 수량 저장\n",
        "\n",
        "# 입력된 품목 출력\n",
        "print(mart)\n",
        "\n",
        "# 검색할 품목 입력받기\n",
        "q = input(\"검색하고자 하는 품목명을 입력하세요: \")\n",
        "\n",
        "# 입력한 품목의 수량 출력\n",
        "if q in mart:  # 품목이 딕셔너리에 있는지 확인\n",
        "    print(f\"{q}: {mart[q]}개\")\n",
        "else:\n",
        "    print(\"해당 품목은 목록에 없습니다.\")\n"
      ],
      "metadata": {
        "colab": {
          "base_uri": "https://localhost:8080/"
        },
        "id": "BqscMDEJBp3p",
        "outputId": "fe69639a-ef35-4280-e6ea-7e445c79bed7"
      },
      "execution_count": null,
      "outputs": [
        {
          "output_type": "stream",
          "name": "stdout",
          "text": [
            "품목명: 콜라\n",
            "수량: 4\n",
            "품목명: 콜라\n",
            "수량: 4\n",
            "품목명: 오렌지\n",
            "수량: 4\n",
            "품목명: 사이다 \n",
            "수량: 5\n",
            "품목명: 오렌지 \n",
            "수량: 6\n",
            "{'콜라': 4, '오렌지': 4, '사이다 ': 5, '오렌지 ': 6}\n",
            "검색하고자 하는 품목명을 입력하세요: 콜라\n",
            "콜라: 4개\n"
          ]
        }
      ]
    },
    {
      "cell_type": "code",
      "source": [
        "def cal_average(numbers):\n",
        "    if len(numbers) == 0:\n",
        "        return 0\n",
        "\n",
        "    return sum(numbers) / len(numbers)  # 합을 개수로 나눠 평균 구함\n",
        "\n",
        "numbers = []\n",
        "\n",
        "while True:\n",
        "    command = input(\"명령을 입력하세요(i,d,q): \")\n",
        "    if command == 'i':\n",
        "        data = int(input(\"숫자를 입력하세요: \"))\n",
        "        numbers.append(data)\n",
        "        average = cal_average(numbers)  # 평균 계산\n",
        "        print(\"{} avg: {:.2f}\".format(numbers, average))\n",
        "    elif command == 'd':\n",
        "        if numbers:\n",
        "            numbers.pop()\n",
        "            average = cal_average(numbers)  # 평균 계산\n",
        "            print(\"{} avg: {:.2f}\".format(numbers, average))\n",
        "        else:\n",
        "            print(\"삭제할 숫자가 없습니다.\")\n",
        "    elif command == 'q':\n",
        "        print(\"quit\")\n",
        "        break  # 루프 종료\n",
        "    else:\n",
        "        print(\"잘못된 명령입니다.\")\n",
        "\n",
        "\n",
        "\n"
      ],
      "metadata": {
        "colab": {
          "base_uri": "https://localhost:8080/"
        },
        "id": "mW6jGztcC4Sh",
        "outputId": "2a9d58ac-ad36-41c8-fe16-9039f16324ac"
      },
      "execution_count": null,
      "outputs": [
        {
          "output_type": "stream",
          "name": "stdout",
          "text": [
            "명령을 입력하세요(i,d,q): i\n",
            "숫자를 입력하세요: 20\n",
            "[20] avg: 20.00\n",
            "명령을 입력하세요(i,d,q): d\n",
            "[] avg: 0.00\n",
            "명령을 입력하세요(i,d,q): i\n",
            "숫자를 입력하세요: 30\n",
            "[30] avg: 30.00\n",
            "명령을 입력하세요(i,d,q): i\n",
            "숫자를 입력하세요: 20\n",
            "[30, 20] avg: 25.00\n",
            "명령을 입력하세요(i,d,q): d\n",
            "[30] avg: 30.00\n",
            "명령을 입력하세요(i,d,q): d\n",
            "[] avg: 0.00\n",
            "명령을 입력하세요(i,d,q): i\n",
            "숫자를 입력하세요: 230\n",
            "[230] avg: 230.00\n",
            "명령을 입력하세요(i,d,q): i\n",
            "숫자를 입력하세요: 21300231\n",
            "[230, 21300231] avg: 10650230.50\n",
            "명령을 입력하세요(i,d,q): i\n",
            "숫자를 입력하세요: 12402410421\n",
            "[230, 21300231, 12402410421] avg: 4141236960.67\n",
            "명령을 입력하세요(i,d,q): i \n",
            "잘못된 명령입니다.\n",
            "명령을 입력하세요(i,d,q): 42100421\n",
            "잘못된 명령입니다.\n",
            "명령을 입력하세요(i,d,q): d\n",
            "[230, 21300231] avg: 10650230.50\n",
            "명령을 입력하세요(i,d,q): d\n",
            "[230] avg: 230.00\n",
            "명령을 입력하세요(i,d,q): d\n",
            "[] avg: 0.00\n",
            "명령을 입력하세요(i,d,q): d\n",
            "삭제할 숫자가 없습니다.\n",
            "명령을 입력하세요(i,d,q): q\n",
            "quit\n"
          ]
        }
      ]
    },
    {
      "cell_type": "code",
      "source": [
        "students = []\n",
        "\n",
        "for i in range(2):\n",
        "    id = input(\"아이디: \")\n",
        "    name = input(\"이름: \")\n",
        "    kor = int(input(\"국어점수: \"))\n",
        "    eng = int(input(\"영어점수: \"))\n",
        "    math = int(input(\"수학점수: \"))\n",
        "    total = kor + eng + math  # 'sum'은 내장 함수이므로 다른 이름 사용\n",
        "    students.append([id, name, kor, eng, math, total])\n",
        "\n",
        "# 학생 정보 출력\n",
        "for student in students:\n",
        "    print(student)\n",
        "\n",
        "# 이름으로 정렬\n",
        "sorted_by_name = sorted(students, key=lambda x: x[1])  # 임시 무명 함수 (lambda)\n",
        "print(\"\\n이름으로 정렬한 결과:\")\n",
        "for student in sorted_by_name:\n",
        "    print(student)\n",
        "\n",
        "# 총점으로 정렬\n",
        "sorted_by_total = sorted(students, key=lambda x: x[-1])  # 임시 무명 함수 (lambda)\n",
        "print(\"\\n총점으로 정렬한 결과:\")\n",
        "for student in sorted_by_total:\n",
        "    print(student)\n"
      ],
      "metadata": {
        "colab": {
          "base_uri": "https://localhost:8080/"
        },
        "id": "L2z00CsmEIyZ",
        "outputId": "7e1ed4c5-e25f-44fa-f676-d8ae742afac4"
      },
      "execution_count": null,
      "outputs": [
        {
          "output_type": "stream",
          "name": "stdout",
          "text": [
            "아이디:  kim,\n",
            "이름: 홍길동\n",
            "국어점수: 90\n",
            "영어점수: 80\n",
            "수학점수: 70\n",
            "아이디: ㅈㄷ\n",
            "이름: 2ㄱㄷ저ㅏㅣ;\n",
            "국어점수: 213\n",
            "영어점수: 213\n",
            "수학점수: 123\n",
            "[' kim,', '홍길동', 90, 80, 70, 240]\n",
            "['ㅈㄷ', '2ㄱㄷ저ㅏㅣ;', 213, 213, 123, 549]\n",
            "\n",
            "이름으로 정렬한 결과:\n",
            "['ㅈㄷ', '2ㄱㄷ저ㅏㅣ;', 213, 213, 123, 549]\n",
            "[' kim,', '홍길동', 90, 80, 70, 240]\n",
            "\n",
            "총점으로 정렬한 결과:\n",
            "[' kim,', '홍길동', 90, 80, 70, 240]\n",
            "['ㅈㄷ', '2ㄱㄷ저ㅏㅣ;', 213, 213, 123, 549]\n"
          ]
        }
      ]
    }
  ]
}